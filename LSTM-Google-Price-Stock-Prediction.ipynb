{
 "cells": [
  {
   "cell_type": "code",
   "execution_count": 1,
   "id": "4c1f73bf",
   "metadata": {},
   "outputs": [],
   "source": [
    "import numpy as np\n",
    "import pandas as pd\n",
    "import matplotlib.pyplot as plt"
   ]
  },
  {
   "cell_type": "code",
   "execution_count": null,
   "id": "793ff852",
   "metadata": {},
   "outputs": [],
   "source": [
    "dataset_train=pd.read_csv(r'Google_Stock_Price_Train.csv')"
   ]
  },
  {
   "cell_type": "code",
   "execution_count": 3,
   "id": "65cd77ed",
   "metadata": {},
   "outputs": [
    {
     "data": {
      "text/html": [
       "<div>\n",
       "<style scoped>\n",
       "    .dataframe tbody tr th:only-of-type {\n",
       "        vertical-align: middle;\n",
       "    }\n",
       "\n",
       "    .dataframe tbody tr th {\n",
       "        vertical-align: top;\n",
       "    }\n",
       "\n",
       "    .dataframe thead th {\n",
       "        text-align: right;\n",
       "    }\n",
       "</style>\n",
       "<table border=\"1\" class=\"dataframe\">\n",
       "  <thead>\n",
       "    <tr style=\"text-align: right;\">\n",
       "      <th></th>\n",
       "      <th>Date</th>\n",
       "      <th>Open</th>\n",
       "      <th>High</th>\n",
       "      <th>Low</th>\n",
       "      <th>Close</th>\n",
       "      <th>Volume</th>\n",
       "    </tr>\n",
       "  </thead>\n",
       "  <tbody>\n",
       "    <tr>\n",
       "      <th>0</th>\n",
       "      <td>1/3/2012</td>\n",
       "      <td>325.25</td>\n",
       "      <td>332.83</td>\n",
       "      <td>324.97</td>\n",
       "      <td>663.59</td>\n",
       "      <td>7,380,500</td>\n",
       "    </tr>\n",
       "    <tr>\n",
       "      <th>1</th>\n",
       "      <td>1/4/2012</td>\n",
       "      <td>331.27</td>\n",
       "      <td>333.87</td>\n",
       "      <td>329.08</td>\n",
       "      <td>666.45</td>\n",
       "      <td>5,749,400</td>\n",
       "    </tr>\n",
       "    <tr>\n",
       "      <th>2</th>\n",
       "      <td>1/5/2012</td>\n",
       "      <td>329.83</td>\n",
       "      <td>330.75</td>\n",
       "      <td>326.89</td>\n",
       "      <td>657.21</td>\n",
       "      <td>6,590,300</td>\n",
       "    </tr>\n",
       "    <tr>\n",
       "      <th>3</th>\n",
       "      <td>1/6/2012</td>\n",
       "      <td>328.34</td>\n",
       "      <td>328.77</td>\n",
       "      <td>323.68</td>\n",
       "      <td>648.24</td>\n",
       "      <td>5,405,900</td>\n",
       "    </tr>\n",
       "    <tr>\n",
       "      <th>4</th>\n",
       "      <td>1/9/2012</td>\n",
       "      <td>322.04</td>\n",
       "      <td>322.29</td>\n",
       "      <td>309.46</td>\n",
       "      <td>620.76</td>\n",
       "      <td>11,688,800</td>\n",
       "    </tr>\n",
       "  </tbody>\n",
       "</table>\n",
       "</div>"
      ],
      "text/plain": [
       "       Date    Open    High     Low   Close      Volume\n",
       "0  1/3/2012  325.25  332.83  324.97  663.59   7,380,500\n",
       "1  1/4/2012  331.27  333.87  329.08  666.45   5,749,400\n",
       "2  1/5/2012  329.83  330.75  326.89  657.21   6,590,300\n",
       "3  1/6/2012  328.34  328.77  323.68  648.24   5,405,900\n",
       "4  1/9/2012  322.04  322.29  309.46  620.76  11,688,800"
      ]
     },
     "execution_count": 3,
     "metadata": {},
     "output_type": "execute_result"
    }
   ],
   "source": [
    "dataset_train.head()"
   ]
  },
  {
   "cell_type": "code",
   "execution_count": 4,
   "id": "78bbaadb",
   "metadata": {},
   "outputs": [
    {
     "data": {
      "text/plain": [
       "Date      0\n",
       "Open      0\n",
       "High      0\n",
       "Low       0\n",
       "Close     0\n",
       "Volume    0\n",
       "dtype: int64"
      ]
     },
     "execution_count": 4,
     "metadata": {},
     "output_type": "execute_result"
    }
   ],
   "source": [
    "dataset_train.isna().sum()"
   ]
  },
  {
   "cell_type": "code",
   "execution_count": 5,
   "id": "e20120ad",
   "metadata": {},
   "outputs": [],
   "source": [
    "X = dataset_train.iloc[:,1:2].values"
   ]
  },
  {
   "cell_type": "code",
   "execution_count": 6,
   "id": "1ad4bebb",
   "metadata": {},
   "outputs": [],
   "source": [
    "from sklearn.preprocessing import MinMaxScaler\n",
    "sc = MinMaxScaler()\n",
    "X = sc.fit_transform(X)"
   ]
  },
  {
   "cell_type": "code",
   "execution_count": 7,
   "id": "e1a69e47",
   "metadata": {},
   "outputs": [],
   "source": [
    "x_train=[]\n",
    "y_train=[]\n",
    "for i in range(60, 1258):\n",
    "    x_train.append(X[i-60:i,0])\n",
    "    y_train.append(X[i,0])"
   ]
  },
  {
   "cell_type": "code",
   "execution_count": 8,
   "id": "6d5a24c5",
   "metadata": {},
   "outputs": [],
   "source": [
    "x_train = np.array(x_train)\n",
    "y_train = np.array(y_train)"
   ]
  },
  {
   "cell_type": "code",
   "execution_count": 11,
   "id": "ddad4aac",
   "metadata": {},
   "outputs": [
    {
     "data": {
      "text/plain": [
       "(1258, 1)"
      ]
     },
     "execution_count": 11,
     "metadata": {},
     "output_type": "execute_result"
    }
   ],
   "source": [
    "X.shape"
   ]
  },
  {
   "cell_type": "code",
   "execution_count": 12,
   "id": "bb49c280",
   "metadata": {},
   "outputs": [],
   "source": [
    "x_train = np.reshape(x_train,(x_train.shape[0],x_train.shape[1],1))"
   ]
  },
  {
   "cell_type": "code",
   "execution_count": 13,
   "id": "4a80d910",
   "metadata": {},
   "outputs": [
    {
     "data": {
      "text/plain": [
       "(1198, 60, 1)"
      ]
     },
     "execution_count": 13,
     "metadata": {},
     "output_type": "execute_result"
    }
   ],
   "source": [
    "x_train.shape"
   ]
  },
  {
   "cell_type": "code",
   "execution_count": 15,
   "id": "acc879c7",
   "metadata": {},
   "outputs": [],
   "source": [
    "from keras.models import Sequential\n",
    "from keras.layers import Dense\n",
    "from keras.layers import LSTM\n",
    "from keras.layers import Dropout"
   ]
  },
  {
   "cell_type": "code",
   "execution_count": 16,
   "id": "dacb06fb",
   "metadata": {},
   "outputs": [],
   "source": [
    "regressor = Sequential()\n",
    "regressor.add(LSTM(units=50, return_sequences=True, input_shape=(x_train.shape[1],1)))\n",
    "regressor.add(Dropout(rate=0.2))\n",
    "regressor.add(LSTM(units=50,return_sequences=True))\n",
    "regressor.add(Dropout(0.0))\n",
    "regressor.add(LSTM(units=50,return_sequences=True))\n",
    "regressor.add(Dropout(0.1))"
   ]
  },
  {
   "cell_type": "code",
   "execution_count": 17,
   "id": "c3a73b35",
   "metadata": {},
   "outputs": [],
   "source": [
    "regressor.add(LSTM(units=50))\n",
    "regressor.add(Dropout(0.2))\n",
    "regressor.add(Dense(units=1))"
   ]
  },
  {
   "cell_type": "code",
   "execution_count": 18,
   "id": "3ce506e0",
   "metadata": {},
   "outputs": [],
   "source": [
    "regressor.compile(optimizer='adam',loss='mean_squared_error')"
   ]
  },
  {
   "cell_type": "code",
   "execution_count": 21,
   "id": "d1eb7729",
   "metadata": {},
   "outputs": [
    {
     "name": "stdout",
     "output_type": "stream",
     "text": [
      "Epoch 1/200\n",
      "38/38 [==============================] - 4s 32ms/step - loss: 0.0342\n",
      "Epoch 2/200\n",
      "38/38 [==============================] - 1s 32ms/step - loss: 0.0061\n",
      "Epoch 3/200\n",
      "38/38 [==============================] - 1s 31ms/step - loss: 0.0051\n",
      "Epoch 4/200\n",
      "38/38 [==============================] - 1s 31ms/step - loss: 0.0053\n",
      "Epoch 5/200\n",
      "38/38 [==============================] - 1s 31ms/step - loss: 0.0055\n",
      "Epoch 6/200\n",
      "38/38 [==============================] - 1s 30ms/step - loss: 0.0049\n",
      "Epoch 7/200\n",
      "38/38 [==============================] - 1s 30ms/step - loss: 0.0042\n",
      "Epoch 8/200\n",
      "38/38 [==============================] - 1s 31ms/step - loss: 0.0048\n",
      "Epoch 9/200\n",
      "38/38 [==============================] - 1s 31ms/step - loss: 0.0040\n",
      "Epoch 10/200\n",
      "38/38 [==============================] - 1s 31ms/step - loss: 0.0039\n",
      "Epoch 11/200\n",
      "38/38 [==============================] - 1s 32ms/step - loss: 0.0046\n",
      "Epoch 12/200\n",
      "38/38 [==============================] - 1s 32ms/step - loss: 0.0042\n",
      "Epoch 13/200\n",
      "38/38 [==============================] - 1s 33ms/step - loss: 0.0040\n",
      "Epoch 14/200\n",
      "38/38 [==============================] - 1s 32ms/step - loss: 0.0038\n",
      "Epoch 15/200\n",
      "38/38 [==============================] - 1s 31ms/step - loss: 0.0041\n",
      "Epoch 16/200\n",
      "38/38 [==============================] - 1s 31ms/step - loss: 0.0035\n",
      "Epoch 17/200\n",
      "38/38 [==============================] - 1s 31ms/step - loss: 0.0033\n",
      "Epoch 18/200\n",
      "38/38 [==============================] - 1s 31ms/step - loss: 0.0035\n",
      "Epoch 19/200\n",
      "38/38 [==============================] - 1s 32ms/step - loss: 0.0030\n",
      "Epoch 20/200\n",
      "38/38 [==============================] - 1s 32ms/step - loss: 0.0033\n",
      "Epoch 21/200\n",
      "38/38 [==============================] - 1s 31ms/step - loss: 0.0034\n",
      "Epoch 22/200\n",
      "38/38 [==============================] - 1s 31ms/step - loss: 0.0034\n",
      "Epoch 23/200\n",
      "38/38 [==============================] - 1s 31ms/step - loss: 0.0031\n",
      "Epoch 24/200\n",
      "38/38 [==============================] - 1s 31ms/step - loss: 0.0036\n",
      "Epoch 25/200\n",
      "38/38 [==============================] - 1s 31ms/step - loss: 0.0034\n",
      "Epoch 26/200\n",
      "38/38 [==============================] - 1s 31ms/step - loss: 0.0030\n",
      "Epoch 27/200\n",
      "38/38 [==============================] - 1s 31ms/step - loss: 0.0032\n",
      "Epoch 28/200\n",
      "38/38 [==============================] - 1s 31ms/step - loss: 0.0030\n",
      "Epoch 29/200\n",
      "38/38 [==============================] - 1s 30ms/step - loss: 0.0030\n",
      "Epoch 30/200\n",
      "38/38 [==============================] - 1s 31ms/step - loss: 0.0030\n",
      "Epoch 31/200\n",
      "38/38 [==============================] - 1s 31ms/step - loss: 0.0028\n",
      "Epoch 32/200\n",
      "38/38 [==============================] - 1s 31ms/step - loss: 0.0029\n",
      "Epoch 33/200\n",
      "38/38 [==============================] - 1s 31ms/step - loss: 0.0029\n",
      "Epoch 34/200\n",
      "38/38 [==============================] - 1s 31ms/step - loss: 0.0029\n",
      "Epoch 35/200\n",
      "38/38 [==============================] - 1s 31ms/step - loss: 0.0025\n",
      "Epoch 36/200\n",
      "38/38 [==============================] - 1s 31ms/step - loss: 0.0023\n",
      "Epoch 37/200\n",
      "38/38 [==============================] - 1s 30ms/step - loss: 0.0027\n",
      "Epoch 38/200\n",
      "38/38 [==============================] - 1s 31ms/step - loss: 0.0024\n",
      "Epoch 39/200\n",
      "38/38 [==============================] - 1s 32ms/step - loss: 0.0025\n",
      "Epoch 40/200\n",
      "38/38 [==============================] - 1s 31ms/step - loss: 0.0026\n",
      "Epoch 41/200\n",
      "38/38 [==============================] - 1s 31ms/step - loss: 0.0023\n",
      "Epoch 42/200\n",
      "38/38 [==============================] - 1s 31ms/step - loss: 0.0023\n",
      "Epoch 43/200\n",
      "38/38 [==============================] - 1s 31ms/step - loss: 0.0025\n",
      "Epoch 44/200\n",
      "38/38 [==============================] - 1s 31ms/step - loss: 0.0023\n",
      "Epoch 45/200\n",
      "38/38 [==============================] - 1s 31ms/step - loss: 0.0023\n",
      "Epoch 46/200\n",
      "38/38 [==============================] - 1s 31ms/step - loss: 0.0022\n",
      "Epoch 47/200\n",
      "38/38 [==============================] - 1s 31ms/step - loss: 0.0021\n",
      "Epoch 48/200\n",
      "38/38 [==============================] - 1s 31ms/step - loss: 0.0023\n",
      "Epoch 49/200\n",
      "38/38 [==============================] - 1s 31ms/step - loss: 0.0021\n",
      "Epoch 50/200\n",
      "38/38 [==============================] - 1s 31ms/step - loss: 0.0022\n",
      "Epoch 51/200\n",
      "38/38 [==============================] - 1s 31ms/step - loss: 0.0019\n",
      "Epoch 52/200\n",
      "38/38 [==============================] - 1s 31ms/step - loss: 0.0021\n",
      "Epoch 53/200\n",
      "38/38 [==============================] - 1s 31ms/step - loss: 0.0020\n",
      "Epoch 54/200\n",
      "38/38 [==============================] - 1s 31ms/step - loss: 0.0023\n",
      "Epoch 55/200\n",
      "38/38 [==============================] - 1s 31ms/step - loss: 0.0020\n",
      "Epoch 56/200\n",
      "38/38 [==============================] - 1s 31ms/step - loss: 0.0019\n",
      "Epoch 57/200\n",
      "38/38 [==============================] - 1s 31ms/step - loss: 0.0020\n",
      "Epoch 58/200\n",
      "38/38 [==============================] - 1s 31ms/step - loss: 0.0019\n",
      "Epoch 59/200\n",
      "38/38 [==============================] - 1s 31ms/step - loss: 0.0019\n",
      "Epoch 60/200\n",
      "38/38 [==============================] - 1s 31ms/step - loss: 0.0019\n",
      "Epoch 61/200\n",
      "38/38 [==============================] - 1s 31ms/step - loss: 0.0020\n",
      "Epoch 62/200\n",
      "38/38 [==============================] - 1s 31ms/step - loss: 0.0019\n",
      "Epoch 63/200\n",
      "38/38 [==============================] - 1s 31ms/step - loss: 0.0018\n",
      "Epoch 64/200\n",
      "38/38 [==============================] - 1s 31ms/step - loss: 0.0019\n",
      "Epoch 65/200\n",
      "38/38 [==============================] - 1s 31ms/step - loss: 0.0020\n",
      "Epoch 66/200\n",
      "38/38 [==============================] - 1s 31ms/step - loss: 0.0018\n",
      "Epoch 67/200\n",
      "38/38 [==============================] - 1s 32ms/step - loss: 0.0018\n",
      "Epoch 68/200\n",
      "38/38 [==============================] - 1s 32ms/step - loss: 0.0018\n",
      "Epoch 69/200\n",
      "38/38 [==============================] - 1s 31ms/step - loss: 0.0015\n",
      "Epoch 70/200\n",
      "38/38 [==============================] - 1s 31ms/step - loss: 0.0017\n",
      "Epoch 71/200\n",
      "38/38 [==============================] - 1s 31ms/step - loss: 0.0018\n",
      "Epoch 72/200\n",
      "38/38 [==============================] - 1s 31ms/step - loss: 0.0015\n",
      "Epoch 73/200\n",
      "38/38 [==============================] - 1s 31ms/step - loss: 0.0015\n",
      "Epoch 74/200\n",
      "38/38 [==============================] - 1s 31ms/step - loss: 0.0015\n",
      "Epoch 75/200\n",
      "38/38 [==============================] - 1s 31ms/step - loss: 0.0017\n",
      "Epoch 76/200\n",
      "38/38 [==============================] - 1s 31ms/step - loss: 0.0018\n",
      "Epoch 77/200\n",
      "38/38 [==============================] - 1s 31ms/step - loss: 0.0015\n",
      "Epoch 78/200\n",
      "38/38 [==============================] - 1s 31ms/step - loss: 0.0016\n",
      "Epoch 79/200\n",
      "38/38 [==============================] - 1s 31ms/step - loss: 0.0015\n",
      "Epoch 80/200\n",
      "38/38 [==============================] - 1s 31ms/step - loss: 0.0016\n",
      "Epoch 81/200\n",
      "38/38 [==============================] - 1s 31ms/step - loss: 0.0017\n",
      "Epoch 82/200\n",
      "38/38 [==============================] - 1s 31ms/step - loss: 0.0015\n",
      "Epoch 83/200\n",
      "38/38 [==============================] - 1s 31ms/step - loss: 0.0015\n",
      "Epoch 84/200\n",
      "38/38 [==============================] - 1s 31ms/step - loss: 0.0014\n",
      "Epoch 85/200\n",
      "38/38 [==============================] - 1s 31ms/step - loss: 0.0016\n",
      "Epoch 86/200\n",
      "38/38 [==============================] - 1s 31ms/step - loss: 0.0014\n",
      "Epoch 87/200\n",
      "38/38 [==============================] - 1s 31ms/step - loss: 0.0013\n",
      "Epoch 88/200\n",
      "38/38 [==============================] - 1s 31ms/step - loss: 0.0012\n",
      "Epoch 89/200\n",
      "38/38 [==============================] - 1s 31ms/step - loss: 0.0014\n",
      "Epoch 90/200\n",
      "38/38 [==============================] - 1s 31ms/step - loss: 0.0013\n",
      "Epoch 91/200\n",
      "38/38 [==============================] - 1s 31ms/step - loss: 0.0013\n",
      "Epoch 92/200\n",
      "38/38 [==============================] - 1s 31ms/step - loss: 0.0013\n",
      "Epoch 93/200\n",
      "38/38 [==============================] - 1s 31ms/step - loss: 0.0014\n",
      "Epoch 94/200\n",
      "38/38 [==============================] - 1s 31ms/step - loss: 0.0013\n",
      "Epoch 95/200\n",
      "38/38 [==============================] - 1s 31ms/step - loss: 0.0014\n",
      "Epoch 96/200\n",
      "38/38 [==============================] - 1s 31ms/step - loss: 0.0013\n",
      "Epoch 97/200\n",
      "38/38 [==============================] - 1s 31ms/step - loss: 0.0012\n",
      "Epoch 98/200\n",
      "38/38 [==============================] - 1s 31ms/step - loss: 0.0012\n",
      "Epoch 99/200\n",
      "38/38 [==============================] - 1s 31ms/step - loss: 0.0013\n",
      "Epoch 100/200\n",
      "38/38 [==============================] - 1s 31ms/step - loss: 0.0012\n",
      "Epoch 101/200\n"
     ]
    },
    {
     "name": "stdout",
     "output_type": "stream",
     "text": [
      "38/38 [==============================] - 1s 31ms/step - loss: 0.0012\n",
      "Epoch 102/200\n",
      "38/38 [==============================] - 1s 31ms/step - loss: 0.0011\n",
      "Epoch 103/200\n",
      "38/38 [==============================] - 1s 31ms/step - loss: 0.0014\n",
      "Epoch 104/200\n",
      "38/38 [==============================] - 1s 31ms/step - loss: 0.0013\n",
      "Epoch 105/200\n",
      "38/38 [==============================] - 1s 31ms/step - loss: 0.0012\n",
      "Epoch 106/200\n",
      "38/38 [==============================] - 1s 31ms/step - loss: 0.0013\n",
      "Epoch 107/200\n",
      "38/38 [==============================] - 1s 31ms/step - loss: 0.0012\n",
      "Epoch 108/200\n",
      "38/38 [==============================] - 1s 31ms/step - loss: 0.0012\n",
      "Epoch 109/200\n",
      "38/38 [==============================] - 1s 31ms/step - loss: 0.0012\n",
      "Epoch 110/200\n",
      "38/38 [==============================] - 1s 30ms/step - loss: 0.0013\n",
      "Epoch 111/200\n",
      "38/38 [==============================] - 1s 31ms/step - loss: 0.0012\n",
      "Epoch 112/200\n",
      "38/38 [==============================] - 1s 31ms/step - loss: 0.0012\n",
      "Epoch 113/200\n",
      "38/38 [==============================] - 1s 31ms/step - loss: 0.0012\n",
      "Epoch 114/200\n",
      "38/38 [==============================] - 1s 31ms/step - loss: 0.0012\n",
      "Epoch 115/200\n",
      "38/38 [==============================] - 1s 31ms/step - loss: 0.0012\n",
      "Epoch 116/200\n",
      "38/38 [==============================] - 1s 31ms/step - loss: 0.0011\n",
      "Epoch 117/200\n",
      "38/38 [==============================] - 1s 31ms/step - loss: 0.0011\n",
      "Epoch 118/200\n",
      "38/38 [==============================] - 1s 31ms/step - loss: 0.0011\n",
      "Epoch 119/200\n",
      "38/38 [==============================] - 1s 31ms/step - loss: 0.0011\n",
      "Epoch 120/200\n",
      "38/38 [==============================] - 1s 30ms/step - loss: 0.0011\n",
      "Epoch 121/200\n",
      "38/38 [==============================] - 1s 31ms/step - loss: 0.0011\n",
      "Epoch 122/200\n",
      "38/38 [==============================] - 1s 31ms/step - loss: 0.0011\n",
      "Epoch 123/200\n",
      "38/38 [==============================] - 1s 31ms/step - loss: 0.0010\n",
      "Epoch 124/200\n",
      "38/38 [==============================] - 1s 31ms/step - loss: 0.0011\n",
      "Epoch 125/200\n",
      "38/38 [==============================] - 1s 31ms/step - loss: 0.0010\n",
      "Epoch 126/200\n",
      "38/38 [==============================] - 1s 31ms/step - loss: 0.0011\n",
      "Epoch 127/200\n",
      "38/38 [==============================] - 1s 31ms/step - loss: 0.0012\n",
      "Epoch 128/200\n",
      "38/38 [==============================] - 1s 31ms/step - loss: 0.0012\n",
      "Epoch 129/200\n",
      "38/38 [==============================] - 1s 31ms/step - loss: 0.0010\n",
      "Epoch 130/200\n",
      "38/38 [==============================] - 1s 31ms/step - loss: 0.0011\n",
      "Epoch 131/200\n",
      "38/38 [==============================] - 1s 31ms/step - loss: 0.0012\n",
      "Epoch 132/200\n",
      "38/38 [==============================] - 1s 31ms/step - loss: 0.0011\n",
      "Epoch 133/200\n",
      "38/38 [==============================] - 1s 31ms/step - loss: 9.1568e-04\n",
      "Epoch 134/200\n",
      "38/38 [==============================] - 1s 31ms/step - loss: 0.0011\n",
      "Epoch 135/200\n",
      "38/38 [==============================] - 1s 31ms/step - loss: 0.0010\n",
      "Epoch 136/200\n",
      "38/38 [==============================] - 1s 31ms/step - loss: 0.0011\n",
      "Epoch 137/200\n",
      "38/38 [==============================] - 1s 31ms/step - loss: 9.1785e-04\n",
      "Epoch 138/200\n",
      "38/38 [==============================] - 1s 31ms/step - loss: 0.0011\n",
      "Epoch 139/200\n",
      "38/38 [==============================] - 1s 31ms/step - loss: 0.0010\n",
      "Epoch 140/200\n",
      "38/38 [==============================] - 1s 32ms/step - loss: 0.0011\n",
      "Epoch 141/200\n",
      "38/38 [==============================] - 1s 31ms/step - loss: 9.8200e-04\n",
      "Epoch 142/200\n",
      "38/38 [==============================] - 1s 32ms/step - loss: 9.1459e-04\n",
      "Epoch 143/200\n",
      "38/38 [==============================] - 1s 31ms/step - loss: 0.0012\n",
      "Epoch 144/200\n",
      "38/38 [==============================] - 1s 32ms/step - loss: 9.6576e-04\n",
      "Epoch 145/200\n",
      "38/38 [==============================] - 1s 31ms/step - loss: 9.7201e-04\n",
      "Epoch 146/200\n",
      "38/38 [==============================] - 1s 31ms/step - loss: 0.0010\n",
      "Epoch 147/200\n",
      "38/38 [==============================] - 1s 31ms/step - loss: 0.0010\n",
      "Epoch 148/200\n",
      "38/38 [==============================] - 1s 31ms/step - loss: 0.0011\n",
      "Epoch 149/200\n",
      "38/38 [==============================] - 1s 32ms/step - loss: 9.9394e-04\n",
      "Epoch 150/200\n",
      "38/38 [==============================] - 1s 32ms/step - loss: 9.7474e-04\n",
      "Epoch 151/200\n",
      "38/38 [==============================] - 1s 32ms/step - loss: 9.0663e-04\n",
      "Epoch 152/200\n",
      "38/38 [==============================] - 1s 32ms/step - loss: 0.0010\n",
      "Epoch 153/200\n",
      "38/38 [==============================] - 1s 32ms/step - loss: 8.7267e-04\n",
      "Epoch 154/200\n",
      "38/38 [==============================] - 1s 32ms/step - loss: 9.2726e-04\n",
      "Epoch 155/200\n",
      "38/38 [==============================] - 1s 32ms/step - loss: 8.6488e-04\n",
      "Epoch 156/200\n",
      "38/38 [==============================] - 1s 32ms/step - loss: 0.0010\n",
      "Epoch 157/200\n",
      "38/38 [==============================] - 1s 32ms/step - loss: 0.0010\n",
      "Epoch 158/200\n",
      "38/38 [==============================] - 1s 32ms/step - loss: 0.0011\n",
      "Epoch 159/200\n",
      "38/38 [==============================] - 1s 32ms/step - loss: 0.0010\n",
      "Epoch 160/200\n",
      "38/38 [==============================] - 1s 32ms/step - loss: 9.3574e-04\n",
      "Epoch 161/200\n",
      "38/38 [==============================] - 1s 32ms/step - loss: 9.9649e-04\n",
      "Epoch 162/200\n",
      "38/38 [==============================] - 1s 32ms/step - loss: 9.0703e-04\n",
      "Epoch 163/200\n",
      "38/38 [==============================] - 1s 32ms/step - loss: 9.8098e-04\n",
      "Epoch 164/200\n",
      "38/38 [==============================] - 1s 32ms/step - loss: 9.6737e-04\n",
      "Epoch 165/200\n",
      "38/38 [==============================] - 1s 32ms/step - loss: 0.0011\n",
      "Epoch 166/200\n",
      "38/38 [==============================] - 1s 32ms/step - loss: 9.8196e-04\n",
      "Epoch 167/200\n",
      "38/38 [==============================] - 1s 32ms/step - loss: 9.5132e-04\n",
      "Epoch 168/200\n",
      "38/38 [==============================] - 1s 32ms/step - loss: 0.0011\n",
      "Epoch 169/200\n",
      "38/38 [==============================] - 1s 32ms/step - loss: 0.0010\n",
      "Epoch 170/200\n",
      "38/38 [==============================] - 1s 32ms/step - loss: 9.9258e-04\n",
      "Epoch 171/200\n",
      "38/38 [==============================] - 1s 32ms/step - loss: 0.0010\n",
      "Epoch 172/200\n",
      "38/38 [==============================] - 1s 32ms/step - loss: 8.7488e-04\n",
      "Epoch 173/200\n",
      "38/38 [==============================] - 1s 32ms/step - loss: 0.0011\n",
      "Epoch 174/200\n",
      "38/38 [==============================] - 1s 32ms/step - loss: 0.0011\n",
      "Epoch 175/200\n",
      "38/38 [==============================] - 1s 33ms/step - loss: 8.9747e-04\n",
      "Epoch 176/200\n",
      "38/38 [==============================] - 1s 32ms/step - loss: 9.3903e-04\n",
      "Epoch 177/200\n",
      "38/38 [==============================] - 1s 32ms/step - loss: 9.2117e-04\n",
      "Epoch 178/200\n",
      "38/38 [==============================] - 1s 32ms/step - loss: 9.1878e-04\n",
      "Epoch 179/200\n",
      "38/38 [==============================] - 1s 32ms/step - loss: 8.5598e-04\n",
      "Epoch 180/200\n",
      "38/38 [==============================] - 1s 32ms/step - loss: 9.6448e-04\n",
      "Epoch 181/200\n",
      "38/38 [==============================] - 1s 32ms/step - loss: 9.2405e-04\n",
      "Epoch 182/200\n",
      "38/38 [==============================] - 1s 32ms/step - loss: 9.5502e-04\n",
      "Epoch 183/200\n",
      "38/38 [==============================] - 1s 32ms/step - loss: 9.3565e-04\n",
      "Epoch 184/200\n",
      "38/38 [==============================] - 1s 32ms/step - loss: 0.0011\n",
      "Epoch 185/200\n",
      "38/38 [==============================] - 1s 33ms/step - loss: 0.0010\n",
      "Epoch 186/200\n",
      "38/38 [==============================] - 1s 33ms/step - loss: 9.5599e-04\n",
      "Epoch 187/200\n",
      "38/38 [==============================] - 1s 32ms/step - loss: 9.2073e-04\n",
      "Epoch 188/200\n",
      "38/38 [==============================] - 1s 33ms/step - loss: 8.1594e-04\n",
      "Epoch 189/200\n",
      "38/38 [==============================] - 1s 33ms/step - loss: 9.0415e-04\n",
      "Epoch 190/200\n",
      "38/38 [==============================] - 1s 33ms/step - loss: 9.7572e-04\n",
      "Epoch 191/200\n",
      "38/38 [==============================] - 1s 33ms/step - loss: 8.4754e-04\n",
      "Epoch 192/200\n",
      "38/38 [==============================] - 1s 33ms/step - loss: 9.4999e-04\n",
      "Epoch 193/200\n",
      "38/38 [==============================] - 1s 33ms/step - loss: 8.8251e-04\n",
      "Epoch 194/200\n",
      "38/38 [==============================] - 1s 33ms/step - loss: 8.6371e-04\n",
      "Epoch 195/200\n",
      "38/38 [==============================] - 1s 33ms/step - loss: 9.6647e-04\n",
      "Epoch 196/200\n",
      "38/38 [==============================] - 1s 33ms/step - loss: 9.0623e-04\n",
      "Epoch 197/200\n"
     ]
    },
    {
     "name": "stdout",
     "output_type": "stream",
     "text": [
      "38/38 [==============================] - 1s 33ms/step - loss: 9.3039e-04\n",
      "Epoch 198/200\n",
      "38/38 [==============================] - 1s 33ms/step - loss: 9.1638e-04\n",
      "Epoch 199/200\n",
      "38/38 [==============================] - 1s 33ms/step - loss: 0.0010\n",
      "Epoch 200/200\n",
      "38/38 [==============================] - 1s 33ms/step - loss: 0.0011\n"
     ]
    },
    {
     "data": {
      "text/plain": [
       "<keras.callbacks.History at 0x2827d9111e0>"
      ]
     },
     "execution_count": 21,
     "metadata": {},
     "output_type": "execute_result"
    }
   ],
   "source": [
    "regressor.fit(x_train,y_train,epochs=200,batch_size=32)"
   ]
  },
  {
   "cell_type": "code",
   "execution_count": null,
   "id": "0791369e",
   "metadata": {},
   "outputs": [],
   "source": [
    "dataset_test=pd.read_csv(r'Google_Stock_Price_Test.csv')"
   ]
  },
  {
   "cell_type": "code",
   "execution_count": 24,
   "id": "fba53fd7",
   "metadata": {},
   "outputs": [
    {
     "data": {
      "text/html": [
       "<div>\n",
       "<style scoped>\n",
       "    .dataframe tbody tr th:only-of-type {\n",
       "        vertical-align: middle;\n",
       "    }\n",
       "\n",
       "    .dataframe tbody tr th {\n",
       "        vertical-align: top;\n",
       "    }\n",
       "\n",
       "    .dataframe thead th {\n",
       "        text-align: right;\n",
       "    }\n",
       "</style>\n",
       "<table border=\"1\" class=\"dataframe\">\n",
       "  <thead>\n",
       "    <tr style=\"text-align: right;\">\n",
       "      <th></th>\n",
       "      <th>Date</th>\n",
       "      <th>Open</th>\n",
       "      <th>High</th>\n",
       "      <th>Low</th>\n",
       "      <th>Close</th>\n",
       "      <th>Volume</th>\n",
       "    </tr>\n",
       "  </thead>\n",
       "  <tbody>\n",
       "    <tr>\n",
       "      <th>0</th>\n",
       "      <td>1/3/2017</td>\n",
       "      <td>778.81</td>\n",
       "      <td>789.63</td>\n",
       "      <td>775.80</td>\n",
       "      <td>786.14</td>\n",
       "      <td>1,657,300</td>\n",
       "    </tr>\n",
       "    <tr>\n",
       "      <th>1</th>\n",
       "      <td>1/4/2017</td>\n",
       "      <td>788.36</td>\n",
       "      <td>791.34</td>\n",
       "      <td>783.16</td>\n",
       "      <td>786.90</td>\n",
       "      <td>1,073,000</td>\n",
       "    </tr>\n",
       "    <tr>\n",
       "      <th>2</th>\n",
       "      <td>1/5/2017</td>\n",
       "      <td>786.08</td>\n",
       "      <td>794.48</td>\n",
       "      <td>785.02</td>\n",
       "      <td>794.02</td>\n",
       "      <td>1,335,200</td>\n",
       "    </tr>\n",
       "    <tr>\n",
       "      <th>3</th>\n",
       "      <td>1/6/2017</td>\n",
       "      <td>795.26</td>\n",
       "      <td>807.90</td>\n",
       "      <td>792.20</td>\n",
       "      <td>806.15</td>\n",
       "      <td>1,640,200</td>\n",
       "    </tr>\n",
       "    <tr>\n",
       "      <th>4</th>\n",
       "      <td>1/9/2017</td>\n",
       "      <td>806.40</td>\n",
       "      <td>809.97</td>\n",
       "      <td>802.83</td>\n",
       "      <td>806.65</td>\n",
       "      <td>1,272,400</td>\n",
       "    </tr>\n",
       "  </tbody>\n",
       "</table>\n",
       "</div>"
      ],
      "text/plain": [
       "       Date    Open    High     Low   Close     Volume\n",
       "0  1/3/2017  778.81  789.63  775.80  786.14  1,657,300\n",
       "1  1/4/2017  788.36  791.34  783.16  786.90  1,073,000\n",
       "2  1/5/2017  786.08  794.48  785.02  794.02  1,335,200\n",
       "3  1/6/2017  795.26  807.90  792.20  806.15  1,640,200\n",
       "4  1/9/2017  806.40  809.97  802.83  806.65  1,272,400"
      ]
     },
     "execution_count": 24,
     "metadata": {},
     "output_type": "execute_result"
    }
   ],
   "source": [
    "dataset_test.head()"
   ]
  },
  {
   "cell_type": "code",
   "execution_count": 25,
   "id": "7f224b17",
   "metadata": {},
   "outputs": [
    {
     "data": {
      "text/plain": [
       "(20, 6)"
      ]
     },
     "execution_count": 25,
     "metadata": {},
     "output_type": "execute_result"
    }
   ],
   "source": [
    "dataset_test.shape"
   ]
  },
  {
   "cell_type": "code",
   "execution_count": 29,
   "id": "315afb06",
   "metadata": {},
   "outputs": [],
   "source": [
    "real_stock_price=dataset_test.iloc[:,1:2].values"
   ]
  },
  {
   "cell_type": "code",
   "execution_count": 30,
   "id": "4315210d",
   "metadata": {},
   "outputs": [
    {
     "data": {
      "text/plain": [
       "array([[778.81],\n",
       "       [788.36],\n",
       "       [786.08],\n",
       "       [795.26],\n",
       "       [806.4 ],\n",
       "       [807.86],\n",
       "       [805.  ],\n",
       "       [807.14],\n",
       "       [807.48],\n",
       "       [807.08],\n",
       "       [805.81],\n",
       "       [805.12],\n",
       "       [806.91],\n",
       "       [807.25],\n",
       "       [822.3 ],\n",
       "       [829.62],\n",
       "       [837.81],\n",
       "       [834.71],\n",
       "       [814.66],\n",
       "       [796.86]])"
      ]
     },
     "execution_count": 30,
     "metadata": {},
     "output_type": "execute_result"
    }
   ],
   "source": [
    "real_stock_price"
   ]
  },
  {
   "cell_type": "code",
   "execution_count": 32,
   "id": "b15331cf",
   "metadata": {},
   "outputs": [],
   "source": [
    "dataset_total=pd.concat((dataset_train['Open'], dataset_test['Open']),axis=0)"
   ]
  },
  {
   "cell_type": "code",
   "execution_count": 33,
   "id": "c578289f",
   "metadata": {},
   "outputs": [
    {
     "data": {
      "text/plain": [
       "0    325.25\n",
       "1    331.27\n",
       "2    329.83\n",
       "3    328.34\n",
       "4    322.04\n",
       "Name: Open, dtype: float64"
      ]
     },
     "execution_count": 33,
     "metadata": {},
     "output_type": "execute_result"
    }
   ],
   "source": [
    "dataset_total.head()"
   ]
  },
  {
   "cell_type": "code",
   "execution_count": 34,
   "id": "41096f62",
   "metadata": {},
   "outputs": [
    {
     "data": {
      "text/plain": [
       "(1278,)"
      ]
     },
     "execution_count": 34,
     "metadata": {},
     "output_type": "execute_result"
    }
   ],
   "source": [
    "dataset_total.shape"
   ]
  },
  {
   "cell_type": "code",
   "execution_count": 35,
   "id": "7dd5caee",
   "metadata": {},
   "outputs": [],
   "source": [
    "inputs = dataset_total[len(dataset_total)-len(dataset_test)-60:].values"
   ]
  },
  {
   "cell_type": "code",
   "execution_count": 36,
   "id": "55b332fb",
   "metadata": {},
   "outputs": [
    {
     "data": {
      "text/plain": [
       "array([779.  , 779.66, 777.71, 786.66, 783.76, 781.22, 781.65, 779.8 ,\n",
       "       787.85, 798.24, 803.3 , 795.  , 804.9 , 816.68, 806.34, 801.  ,\n",
       "       808.35, 795.47, 782.89, 778.2 , 767.25, 750.66, 774.5 , 783.4 ,\n",
       "       779.94, 791.17, 756.54, 755.6 , 746.97, 755.2 , 766.92, 771.37,\n",
       "       762.61, 772.63, 767.73, 764.26, 760.  , 771.53, 770.07, 757.44,\n",
       "       744.59, 757.71, 764.73, 761.  , 772.48, 780.  , 785.04, 793.9 ,\n",
       "       797.4 , 797.34, 800.4 , 790.22, 796.76, 795.84, 792.36, 790.9 ,\n",
       "       790.68, 793.7 , 783.33, 782.75, 778.81, 788.36, 786.08, 795.26,\n",
       "       806.4 , 807.86, 805.  , 807.14, 807.48, 807.08, 805.81, 805.12,\n",
       "       806.91, 807.25, 822.3 , 829.62, 837.81, 834.71, 814.66, 796.86])"
      ]
     },
     "execution_count": 36,
     "metadata": {},
     "output_type": "execute_result"
    }
   ],
   "source": [
    "inputs"
   ]
  },
  {
   "cell_type": "code",
   "execution_count": 37,
   "id": "9265aba5",
   "metadata": {},
   "outputs": [],
   "source": [
    "inputs=inputs.reshape(-1,1)"
   ]
  },
  {
   "cell_type": "code",
   "execution_count": 38,
   "id": "fa87c086",
   "metadata": {},
   "outputs": [
    {
     "data": {
      "text/plain": [
       "(80, 1)"
      ]
     },
     "execution_count": 38,
     "metadata": {},
     "output_type": "execute_result"
    }
   ],
   "source": [
    "inputs.shape"
   ]
  },
  {
   "cell_type": "code",
   "execution_count": 39,
   "id": "ee655bd6",
   "metadata": {},
   "outputs": [],
   "source": [
    "inputs=sc.transform(inputs)"
   ]
  },
  {
   "cell_type": "code",
   "execution_count": 40,
   "id": "90596875",
   "metadata": {},
   "outputs": [
    {
     "data": {
      "text/plain": [
       "array([0.9299055])"
      ]
     },
     "execution_count": 40,
     "metadata": {},
     "output_type": "execute_result"
    }
   ],
   "source": [
    "inputs[0]"
   ]
  },
  {
   "cell_type": "code",
   "execution_count": 41,
   "id": "72aab372",
   "metadata": {},
   "outputs": [],
   "source": [
    "x_test=[]\n",
    "for i in range(60,80):\n",
    "    x_test.append(inputs[i-60:i,0])\n",
    "x_test=np.array(x_test)    "
   ]
  },
  {
   "cell_type": "code",
   "execution_count": 42,
   "id": "1c57a806",
   "metadata": {},
   "outputs": [
    {
     "data": {
      "text/plain": [
       "(20, 60)"
      ]
     },
     "execution_count": 42,
     "metadata": {},
     "output_type": "execute_result"
    }
   ],
   "source": [
    "x_test.shape"
   ]
  },
  {
   "cell_type": "code",
   "execution_count": 43,
   "id": "6fad0cfd",
   "metadata": {},
   "outputs": [],
   "source": [
    "x_test=np.reshape(x_test,(x_test.shape[0],x_test.shape[1],1))"
   ]
  },
  {
   "cell_type": "code",
   "execution_count": 44,
   "id": "7ac97ac5",
   "metadata": {},
   "outputs": [
    {
     "data": {
      "text/plain": [
       "(20, 60, 1)"
      ]
     },
     "execution_count": 44,
     "metadata": {},
     "output_type": "execute_result"
    }
   ],
   "source": [
    "x_test.shape"
   ]
  },
  {
   "cell_type": "code",
   "execution_count": 45,
   "id": "0ace3a37",
   "metadata": {},
   "outputs": [
    {
     "name": "stdout",
     "output_type": "stream",
     "text": [
      "1/1 [==============================] - 1s 621ms/step\n"
     ]
    }
   ],
   "source": [
    "predicted_stock_price=regressor.predict(x_test)"
   ]
  },
  {
   "cell_type": "code",
   "execution_count": 46,
   "id": "39a17ebb",
   "metadata": {},
   "outputs": [
    {
     "data": {
      "text/plain": [
       "array([[0.94717264],\n",
       "       [0.9427868 ],\n",
       "       [0.95413494],\n",
       "       [0.95266163],\n",
       "       [0.96234727],\n",
       "       [0.9788126 ],\n",
       "       [0.9816673 ],\n",
       "       [0.9766567 ],\n",
       "       [0.97928774],\n",
       "       [0.9812902 ],\n",
       "       [0.9810586 ],\n",
       "       [0.9796331 ],\n",
       "       [0.9791    ],\n",
       "       [0.98213696],\n",
       "       [0.9836389 ],\n",
       "       [1.0042698 ],\n",
       "       [1.0173575 ],\n",
       "       [1.0287396 ],\n",
       "       [1.0264397 ],\n",
       "       [1.0005544 ]], dtype=float32)"
      ]
     },
     "execution_count": 46,
     "metadata": {},
     "output_type": "execute_result"
    }
   ],
   "source": [
    "predicted_stock_price"
   ]
  },
  {
   "cell_type": "code",
   "execution_count": 47,
   "id": "34d82663",
   "metadata": {},
   "outputs": [],
   "source": [
    "predicted_stock_price=sc.inverse_transform(predicted_stock_price)"
   ]
  },
  {
   "cell_type": "code",
   "execution_count": 48,
   "id": "40da5f2e",
   "metadata": {},
   "outputs": [
    {
     "data": {
      "text/plain": [
       "array([[788.2821 ],\n",
       "       [785.92444],\n",
       "       [792.0248 ],\n",
       "       [791.2328 ],\n",
       "       [796.4394 ],\n",
       "       [805.29047],\n",
       "       [806.825  ],\n",
       "       [804.13153],\n",
       "       [805.5459 ],\n",
       "       [806.6224 ],\n",
       "       [806.49786],\n",
       "       [805.73157],\n",
       "       [805.44495],\n",
       "       [807.0775 ],\n",
       "       [807.8849 ],\n",
       "       [818.9753 ],\n",
       "       [826.0107 ],\n",
       "       [832.1292 ],\n",
       "       [830.8929 ],\n",
       "       [816.978  ]], dtype=float32)"
      ]
     },
     "execution_count": 48,
     "metadata": {},
     "output_type": "execute_result"
    }
   ],
   "source": [
    "predicted_stock_price"
   ]
  },
  {
   "cell_type": "code",
   "execution_count": 50,
   "id": "4ebaf86e",
   "metadata": {},
   "outputs": [
    {
     "data": {
      "image/png": "[encoded data removed]",
      "text/plain": [
       "<Figure size 640x480 with 1 Axes>"
      ]
     },
     "metadata": {},
     "output_type": "display_data"
    }
   ],
   "source": [
    "plt.plot(real_stock_price, color='red',label='Real Google Stock Price')\n",
    "plt.plot(predicted_stock_price, color='blue',label='Predicted Google Stock Price')\n",
    "plt.title('Google Stock Price Prediction')\n",
    "plt.xlabel('Time')\n",
    "plt.ylabel('Stock Price')\n",
    "plt.legend()\n",
    "plt.show()"
   ]
  },
  {
   "cell_type": "code",
   "execution_count": null,
   "id": "9ccf3da6",
   "metadata": {},
   "outputs": [],
   "source": []
  }
 ],
 "metadata": {
  "kernelspec": {
   "display_name": "Python 3 (ipykernel)",
   "language": "python",
   "name": "python3"
  },
  "language_info": {
   "codemirror_mode": {
    "name": "ipython",
    "version": 3
   },
   "file_extension": ".py",
   "mimetype": "text/x-python",
   "name": "python",
   "nbconvert_exporter": "python",
   "pygments_lexer": "ipython3",
   "version": "3.10.11"
  }
 },
 "nbformat": 4,
 "nbformat_minor": 5
}
